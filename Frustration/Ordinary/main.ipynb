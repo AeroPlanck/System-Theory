{
 "cells": [
  {
   "cell_type": "code",
   "execution_count": null,
   "metadata": {},
   "outputs": [],
   "source": [
    "# 这是一个初始化文件，用于导入常用的库和设置一些全局的参数\n",
    "import matplotlib.colors as mcolors\n",
    "import matplotlib.animation as ma\n",
    "import matplotlib.pyplot as plt\n",
    "from tqdm import tqdm\n",
    "from itertools import product\n",
    "import numpy as np\n",
    "import numba as nb\n",
    "import imageio\n",
    "import os\n",
    "import shutil\n",
    "from main import *\n",
    "\n",
    "randomSeed = 100\n",
    "\n",
    "%matplotlib inline\n",
    "%config InlineBackend.figure_format = \"retina\"\n",
    "\n",
    "new_cmap = mcolors.LinearSegmentedColormap.from_list(\n",
    "    \"new\", plt.cm.jet(np.linspace(0, 1, 256)) * 0.85, N=256\n",
    ")\n",
    "\n",
    "@nb.njit\n",
    "def colors_idx(phaseTheta):\n",
    "    return np.floor(256 - phaseTheta / (2 * np.pi) * 256).astype(np.int32)\n",
    "\n",
    "import seaborn as sns\n",
    "\n",
    "sns.set(font_scale=1.1, rc={\n",
    "    'figure.figsize': (6, 5),\n",
    "    'axes.facecolor': 'white',\n",
    "    'figure.facecolor': 'white',\n",
    "    'grid.color': '#dddddd',\n",
    "    'grid.linewidth': 0.5,\n",
    "    \"lines.linewidth\": 1.5,\n",
    "    'text.color': '#000000',\n",
    "    'figure.titleweight': \"bold\",\n",
    "    'xtick.color': '#000000',\n",
    "    'ytick.color': '#000000'\n",
    "})\n",
    "\n",
    "plt.rcParams['mathtext.fontset'] = 'stix'\n",
    "plt.rcParams['font.family'] = 'STIXGeneral'\n",
    "if os.path.exists(\"/opt/conda/bin/ffmpeg\"):\n",
    "    plt.rcParams['animation.ffmpeg_path'] = \"/opt/conda/bin/ffmpeg\"\n",
    "else:\n",
    "    pass"
   ]
  },
  {
   "cell_type": "code",
   "execution_count": null,
   "metadata": {},
   "outputs": [],
   "source": [
    "# 这里是一个模型的实例, strengthLambda是相互作用的强度(耦合强度)，distanceD0是相互作用的距离，可以调整不同的参数多跑跑看\n",
    "model = SpatialGroups(strengthLambda=0.06, distanceD0=0.7, phaseLagAlpha=-np.pi/3, tqdm=True, savePath=\"./data/\", overWrite=True)"
   ]
  },
  {
   "cell_type": "code",
   "execution_count": 3,
   "metadata": {
    "ExecuteTime": {
     "end_time": "2024-07-14T14:50:21.474090Z",
     "start_time": "2024-07-14T14:29:04.255845Z"
    }
   },
   "outputs": [
    {
     "data": {
      "application/vnd.jupyter.widget-view+json": {
       "model_id": "13a9b1cc2fd8401f87bb989cf284409c",
       "version_major": 2,
       "version_minor": 0
      },
      "text/plain": [
       "  0%|          | 0/10000 [00:00<?, ?it/s]"
      ]
     },
     "metadata": {},
     "output_type": "display_data"
    }
   ],
   "source": [
    "# 这里是模型的计算执行函数，输入的参数是模型的迭代次数(演化时间)\n",
    "model.run(10000)"
   ]
  },
  {
   "cell_type": "code",
   "execution_count": null,
   "metadata": {},
   "outputs": [],
   "source": [
    "# 新增相位速度分析 (在model.run之后执行)\n",
    "import matplotlib.pyplot as plt\n",
    "import os\n",
    "\n",
    "targetPath = f\"./data/{model}.h5\"\n",
    "totalPositionX = pd.read_hdf(targetPath, key=\"positionX\")\n",
    "totalPhaseTheta = pd.read_hdf(targetPath, key=\"phaseTheta\")\n",
    "totalPointTheta = pd.read_hdf(targetPath, key=\"pointTheta\")\n",
    "TNum = totalPositionX.shape[0] // model.agentsNum\n",
    "totalPositionX = totalPositionX.values.reshape(TNum, model.agentsNum, 2)[-201:, :, :]\n",
    "totalPhaseTheta = totalPhaseTheta.values.reshape(TNum, model.agentsNum)[-201:, :]\n",
    "totalPointTheta = totalPointTheta.values.reshape(TNum, model.agentsNum)[-201:, :]\n",
    "\n",
    "positionX = totalPositionX[:, np.newaxis, :, :]\n",
    "others = totalPositionX[:, :, np.newaxis, :]\n",
    "phaseTheta = totalPhaseTheta[:, :]\n",
    "pointTheta = totalPointTheta[:, :]\n",
    "omegaTheta = np.tile(model.omegaTheta[:, np.newaxis], (1, TNum)).T[-201:, :]\n",
    "deltaX = others - positionX\n",
    "K = np.sqrt(deltaX[:, :, :, 0] ** 2 + deltaX[:, :, :, 1] ** 2) <= model.distanceD0\n",
    "rePhaseSpeed = pointTheta / 0.01\n",
    "T = np.arange(0.05, 0.05*TNum, 0.05)[-201:]\n",
    "\n",
    "# 计算effPhaseSpeed（确保维度匹配）\n",
    "effPhaseSpeed = omegaTheta + model.strengthLambda * np.sum(K, axis=1) * np.sin(-model.phaseLagAlpha)\n",
    "\n",
    "# 创建三图布局\n",
    "plt.figure(figsize=(18, 6), dpi=150)\n",
    "\n",
    "# 子图1: rePhaseSpeed时序演化（使用数组切片）\n",
    "plt.subplot(1,3,1)\n",
    "for i in range(model.agentsNum):\n",
    "    plt.plot(T, rePhaseSpeed[:, i], lw=0.5, alpha=0.6) \n",
    "plt.title('Real Phase Speed Temporal Evolution')\n",
    "plt.xlabel('Time')\n",
    "plt.ylabel('rePhaseSpeed')\n",
    "\n",
    "# 子图2: effPhaseSpeed时序演化\n",
    "plt.subplot(1,3,2)\n",
    "for i in range(model.agentsNum):\n",
    "    plt.plot(T, effPhaseSpeed[:, i], lw=0.5, alpha=0.6)\n",
    "plt.title('Effective Phase Speed')\n",
    "plt.xlabel('Time')\n",
    "plt.ylabel('effPhaseSpeed')\n",
    "\n",
    "# 子图3: 差值分析\n",
    "plt.subplot(1,3,3)\n",
    "difference = effPhaseSpeed - rePhaseSpeed\n",
    "for i in range(model.agentsNum):\n",
    "    plt.plot(T, difference[:, i], lw=0.5, alpha=0.6)\n",
    "plt.title('Phase Speed Difference')\n",
    "plt.xlabel('Time')\n",
    "plt.ylabel('effPhaseSpeed - rePhaseSpeed')\n",
    "\n",
    "plt.tight_layout()\n",
    "\n",
    "fig_dir = os.path.join(os.getcwd(), 'fig')\n",
    "os.makedirs(fig_dir, exist_ok=True)\n",
    "plt.savefig(os.path.join(fig_dir, 'phase_speed_comparison.png'), dpi=300, bbox_inches='tight')\n",
    "\n",
    "plt.show()"
   ]
  },
  {
   "cell_type": "code",
   "execution_count": 4,
   "metadata": {
    "ExecuteTime": {
     "end_time": "2024-07-14T15:07:54.074089Z",
     "start_time": "2024-07-14T14:50:21.475093Z"
    }
   },
   "outputs": [
    {
     "data": {
      "application/vnd.jupyter.widget-view+json": {
       "model_id": "34365239019d4cb7bf036370abcb8863",
       "version_major": 2,
       "version_minor": 0
      },
      "text/plain": [
       "  0%|          | 0/2002 [00:00<?, ?it/s]"
      ]
     },
     "metadata": {},
     "output_type": "display_data"
    }
   ],
   "source": [
    "# 这里是模型的可视化函数，用于生成动画，输入的参数是模型的实例，运行完毕后会在当文件夹mp4下生成一个mp4文件\n",
    "# 注意这里的模型实例必须是已经执行过计算的(即已经run过，在data文件夹中有模型的数据文件)\n",
    "draw_mp4(model)"
   ]
  },
  {
   "cell_type": "code",
   "execution_count": null,
   "metadata": {
    "ExecuteTime": {
     "end_time": "2024-07-14T15:07:54.667460Z",
     "start_time": "2024-07-14T15:07:54.075092Z"
    }
   },
   "outputs": [],
   "source": [
    "# 这里是模型的可视化函数，用于生成最后一帧的图像，输入的参数是模型的实例，运行完毕后会在下面显示最后一帧的图像\n",
    "plot_last(model)"
   ]
  },
  {
   "cell_type": "code",
   "execution_count": null,
   "metadata": {
    "ExecuteTime": {
     "end_time": "2024-07-14T15:07:54.972195Z",
     "start_time": "2024-07-14T15:07:54.667460Z"
    }
   },
   "outputs": [],
   "source": [
    "targetPath = f\"./data/{model}.h5\"\n",
    "totalPositionX = pd.read_hdf(targetPath, key=\"positionX\")\n",
    "totalPhaseTheta = pd.read_hdf(targetPath, key=\"phaseTheta\")\n",
    "totalPointTheta = pd.read_hdf(targetPath, key=\"pointTheta\")\n",
    "TNum = totalPositionX.shape[0] // model.agentsNum\n",
    "totalPositionX = totalPositionX.values.reshape(TNum, model.agentsNum, 2)\n",
    "totalPhaseTheta = totalPhaseTheta.values.reshape(TNum, model.agentsNum)\n",
    "totalPointTheta = totalPointTheta.values.reshape(TNum, model.agentsNum)\n",
    "\n",
    "positionX = totalPositionX[-1, :, :]\n",
    "phaseTheta = totalPhaseTheta[-1, :]\n",
    "pointTheta = totalPointTheta[-1, :]"
   ]
  },
  {
   "cell_type": "code",
   "execution_count": null,
   "metadata": {
    "ExecuteTime": {
     "end_time": "2024-07-14T15:07:55.138416Z",
     "start_time": "2024-07-14T15:07:54.977766Z"
    }
   },
   "outputs": [],
   "source": [
    "unitOmega = (model.omegaTheta + 3) / 6\n",
    "ax = plt.subplot(1, 1, 1)\n",
    "line = ax.quiver(\n",
    "    positionX[:, 0],  # 振子横坐标 \n",
    "    positionX[:, 1],  # 振子纵坐标\n",
    "    np.cos(phaseTheta),  # 速度的横向分量 \n",
    "    np.sin(phaseTheta),   # 速度的纵向分量\n",
    "    color=new_cmap(unitOmega),  # 自然频率对应颜色\n",
    "    cmap=new_cmap,  # 使用自定义的颜色映射\n",
    ")\n",
    "cbar = plt.colorbar(line, ax=ax, ticks=[0, 1])\n",
    "cbar.ax.set_yticklabels(['-3', '3'])\n",
    "cbar.set_label(r\"$\\omega$\", fontsize=20, rotation=0)"
   ]
  },
  {
   "cell_type": "markdown",
   "metadata": {},
   "source": [
    "$$\n",
    "\\begin{array}{c}\n",
    "\tX_i\\left( t \\right) =x_i\\left( t \\right) -\\frac{v}{\\dot{\\theta}_i\\left( t \\right)}\\sin \\theta _i\\left( t \\right) \\;,\\\\\n",
    "\tY_i\\left( t \\right) =y_i\\left( t \\right) +\\frac{v}{\\dot{\\theta}_i\\left( t \\right)}\\cos \\theta _i\\left( t \\right) \\;,\\\\\n",
    "\\end{array}\n",
    "$$"
   ]
  },
  {
   "cell_type": "code",
   "execution_count": null,
   "metadata": {
    "ExecuteTime": {
     "end_time": "2024-07-14T15:07:55.595274Z",
     "start_time": "2024-07-14T15:07:55.139430Z"
    }
   },
   "outputs": [],
   "source": [
    "centers = np.array([\n",
    "    positionX[:, 0] - model.speedV / pointTheta * np.sin(phaseTheta),\n",
    "    positionX[:, 1] + model.speedV / pointTheta * np.cos(phaseTheta)\n",
    "]).T\n",
    "modCenters = np.mod(centers, model.boundaryLength)\n",
    "plt.figure(figsize=(12, 5))\n",
    "ax = plt.subplot(1, 2, 1)\n",
    "line = ax.quiver(\n",
    "    positionX[:, 0],  # 振子横坐标 \n",
    "    positionX[:, 1],  # 振子纵坐标\n",
    "    np.cos(phaseTheta),  # 速度的横向分量 \n",
    "    np.sin(phaseTheta),   # 速度的纵向分量\n",
    "    color=new_cmap(unitOmega),  # 自然频率对应颜色\n",
    "    cmap=new_cmap,  # 使用自定义的颜色映射\n",
    ")\n",
    "\n",
    "cbar = plt.colorbar(line, ax=ax, ticks=[0, 1])\n",
    "cbar.ax.set_yticklabels(['-3', '3'])\n",
    "# cbar.set_label(r\"$\\omega$\", fontsize=20, rotation=0)\n",
    "\n",
    "ax.scatter(modCenters[:, 0], modCenters[:, 1], c=new_cmap(unitOmega), cmap=new_cmap, s=1)\n",
    "\n",
    "ax = plt.subplot(1, 2, 2)\n",
    "radii = np.sqrt(np.sum((positionX - centers) ** 2, axis=1))\n",
    "ax.scatter(np.abs(model.omegaTheta), radii, c=new_cmap(unitOmega), cmap=new_cmap, s=1)\n",
    "ax.set_xlabel(r\"$\\left| \\omega \\right|$\")\n",
    "ax.set_ylabel(r\"$r$\", rotation=0)\n",
    "# ax.set_ylim(0, 6)\n",
    "\n",
    "plt.tight_layout()"
   ]
  }
 ],
 "metadata": {
  "kernelspec": {
   "display_name": "base",
   "language": "python",
   "name": "python3"
  },
  "language_info": {
   "codemirror_mode": {
    "name": "ipython",
    "version": 3
   },
   "file_extension": ".py",
   "mimetype": "text/x-python",
   "name": "python",
   "nbconvert_exporter": "python",
   "pygments_lexer": "ipython3",
   "version": "3.12.3"
  }
 },
 "nbformat": 4,
 "nbformat_minor": 2
}
