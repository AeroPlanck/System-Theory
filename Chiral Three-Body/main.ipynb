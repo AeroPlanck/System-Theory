{
 "cells": [
  {
   "cell_type": "markdown",
   "metadata": {
    "collapsed": false
   },
   "source": [
    "$$\n",
    "\\begin{cases}\n",
    "\\dot{x}_i = v \\cos \\theta_i i \\\\\n",
    "\\dot{y}_i = v \\sin \\theta_i i \\\\\n",
    "\\dot{\\theta}_i = \\omega_i + K_1 \\sum_{j=1}^N A_{ij} \\sin \\left( \\theta_j - \\theta_i \\right) + K_2 \\sum_{j=1}^N \\sum_{k=1}^N G_{ijk} \\sin \\left( \\theta_j + \\theta_k - 2\\theta_i \\right)\n",
    "\\end{cases}\n",
    "\\quad\n",
    "A_{ij} = H\\left( d_1 - d_{ij}(t) \\right) =\n",
    "\\begin{cases}\n",
    "1, & d_{ij}(t) \\leq d_1 \\\\\n",
    "0, & \\text{else}\n",
    "\\end{cases}\n",
    "\\quad\n",
    "G_{ijk} = H\\left( d_2 - d_{ij}(t) \\right)  H\\left( d_2 - d_{ik}(t) \\right)\n",
    "\\quad\n",
    "d_{ij} = \\sqrt{\\left[ x_i(t) - x_j(t) \\right]^2 + \\left[ y_i(t) - y_j(t) \\right]^2}\n",
    "$$"
   ]
  },
  {
   "cell_type": "code",
   "execution_count": null,
   "metadata": {
    "is_executing": true
   },
   "outputs": [],
   "source": [
    "from pandas.io.sas.sas_constants import subheader_pointer_length_x64\n",
    "from sympy import false\n",
    "from main import *"
   ]
  },
  {
   "cell_type": "code",
   "execution_count": null,
   "metadata": {},
   "outputs": [],
   "source": [
    "model = ThreeBody(strengthLambda1=0.9, strengthLambda2=0.9, \n",
    "                  distanceD1=0.9, distanceD2=0.9, agentsNum=200, boundaryLength=5,\n",
    "                  tqdm=True, savePath=\"./data\", overWrite=True)"
   ]
  },
  {
   "cell_type": "code",
   "execution_count": null,
   "metadata": {},
   "outputs": [],
   "source": [
    "model.run(100)"
   ]
  },
  {
   "cell_type": "code",
   "execution_count": null,
   "metadata": {},
   "outputs": [],
   "source": [
    "import pandas as pd\n",
    "from matplotlib.animation import FuncAnimation\n",
    "\n",
    "def draw_mp4(model):\n",
    "\n",
    "    targetPath = f\"./data/{model}.h5\"\n",
    "    totalPositionX = pd.read_hdf(targetPath, key=\"positionX\")\n",
    "    totalPhaseTheta = pd.read_hdf(targetPath, key=\"phaseTheta\")\n",
    "    totalPointTheta = pd.read_hdf(targetPath, key=\"pointTheta\")\n",
    "    TNum = totalPositionX.shape[0] // model.agentsNum\n",
    "    totalPositionX = totalPositionX.values.reshape(TNum, model.agentsNum, 2)\n",
    "    totalPhaseTheta = totalPhaseTheta.values.reshape(TNum, model.agentsNum)\n",
    "    totalPointTheta = totalPointTheta.values.reshape(TNum, model.agentsNum)\n",
    "    shift = 0\n",
    "    class1, class2 = (\n",
    "        np.concatenate([np.ones(model.agentsNum // 2), np.zeros(model.agentsNum // 2)]).astype(bool), \n",
    "        np.concatenate([np.zeros(model.agentsNum // 2), np.ones(model.agentsNum // 2)]).astype(bool)\n",
    "    )\n",
    "\n",
    "    def plot_frame(i):\n",
    "        pbar.update(1)\n",
    "        positionX = totalPositionX[i]\n",
    "        phaseTheta = totalPhaseTheta[i]\n",
    "        fig.clear()\n",
    "        ax1 = plt.subplot(1, 2, 1)\n",
    "        ax1.quiver(\n",
    "            positionX[class1, 0], positionX[class1, 1],\n",
    "            np.cos(phaseTheta[class1]), np.sin(phaseTheta[class1]), color='tomato'\n",
    "        )\n",
    "        ax1.quiver(\n",
    "            positionX[class2, 0], positionX[class2, 1],\n",
    "            np.cos(phaseTheta[class2]), np.sin(phaseTheta[class2]), color='dodgerblue'\n",
    "        )\n",
    "        limShift = 0\n",
    "        ax1.set_xlim(0 - limShift, model.boundaryLength + limShift)\n",
    "        ax1.set_ylim(0 - limShift, model.boundaryLength + limShift)\n",
    "\n",
    "        ax2 = plt.subplot(1, 2, 2, projection='3d')\n",
    "        hist, bins = np.histogram(phaseTheta[class1], bins=100, range=(-np.pi, np.pi))\n",
    "        # print(np.array([np.zeros_like(hist), hist]).shape)\n",
    "        ax2.plot_surface(\n",
    "            np.cos(bins[:-1]), np.sin(bins[:-1]), \n",
    "            np.array([np.zeros_like(hist), hist]), \n",
    "            color='tomato', alpha=0.5, edgecolor=\"tomato\"\n",
    "        )\n",
    "        hist, bins = np.histogram(phaseTheta[class2], bins=100, range=(-np.pi, np.pi))\n",
    "        ax2.plot_surface(\n",
    "            np.cos(bins[:-1]) + shift, np.sin(bins[:-1]) + shift,\n",
    "            np.array([np.zeros_like(hist), hist]), \n",
    "            color='dodgerblue', alpha=0.5, edgecolor=\"dodgerblue\"\n",
    "        )\n",
    "        ax2.set_xlabel(r\"$\\cos(\\theta_I)$\")\n",
    "        ax2.set_ylabel(r\"$\\sin(\\theta_I)$\")\n",
    "        ax2.set_zlabel(\"Count\")\n",
    "        ax2.set_zlim(0, 1000)\n",
    "\n",
    "    pbar = tqdm(total=TNum)\n",
    "    fig, ax = plt.subplots(figsize=(11, 5))\n",
    "    ani = ma.FuncAnimation(fig, plot_frame, frames=np.arange(0, TNum, 1), interval=50, repeat=False)\n",
    "    ani.save(f\"./mp4/{model}.mp4\", dpi=200, writer=\"ffmpeg\")\n",
    "    \n",
    "    plt.close()\n",
    "\n",
    "    pbar.close()"
   ]
  },
  {
   "cell_type": "code",
   "execution_count": null,
   "metadata": {},
   "outputs": [],
   "source": [
    "rangeLambdas = np.concatenate([\n",
    "    np.arange(0.01, 0.1, 0.02), np.arange(0.1, 1, 0.2)\n",
    "])\n",
    "distanceDs = np.concatenate([\n",
    "    np.arange(0.1, 1, 0.2)\n",
    "])\n",
    "\n",
    "models = [\n",
    "    ThreeBody(l1, l2, d1, d2, agentsNum=200, boundaryLength=5,\n",
    "            tqdm=True, savePath=\"\", overWrite=True)\n",
    "    for l1, l2, d1, d2  in product(rangeLambdas, rangeLambdas, distanceDs, distanceDs)\n",
    "]"
   ]
  },
  {
   "cell_type": "code",
   "execution_count": null,
   "metadata": {},
   "outputs": [],
   "source": [
    "len(models)"
   ]
  },
  {
   "cell_type": "code",
   "execution_count": null,
   "metadata": {},
   "outputs": [],
   "source": [
    "draw_mp4(model)"
   ]
  },
  {
   "cell_type": "code",
   "execution_count": null,
   "metadata": {},
   "outputs": [],
   "source": [
    "targetPath = f\"./data/{model}.h5\"\n",
    "totalPositionX = pd.read_hdf(targetPath, key=\"positionX\")\n",
    "totalPhaseTheta = pd.read_hdf(targetPath, key=\"phaseTheta\")\n",
    "totalPointTheta = pd.read_hdf(targetPath, key=\"pointTheta\")\n",
    "TNum = totalPositionX.shape[0] // model.agentsNum\n",
    "totalPositionX = totalPositionX.values.reshape(TNum, model.agentsNum, 2)\n",
    "totalPhaseTheta = totalPhaseTheta.values.reshape(TNum, model.agentsNum)\n",
    "totalPointTheta = totalPointTheta.values.reshape(TNum, model.agentsNum)\n",
    "for i in totalPointTheta:\n",
    "    print(np.isnan(i).sum())"
   ]
  }
 ],
 "metadata": {
  "kernelspec": {
   "display_name": "base",
   "language": "python",
   "name": "python3"
  },
  "language_info": {
   "codemirror_mode": {
    "name": "ipython",
    "version": 3
   },
   "file_extension": ".py",
   "mimetype": "text/x-python",
   "name": "python",
   "nbconvert_exporter": "python",
   "pygments_lexer": "ipython3",
   "version": "3.12.3"
  }
 },
 "nbformat": 4,
 "nbformat_minor": 4
}
