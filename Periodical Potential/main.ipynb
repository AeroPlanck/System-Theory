{
 "cells": [
  {
   "cell_type": "code",
   "execution_count": 12,
   "metadata": {
    "ExecuteTime": {
     "end_time": "2025-01-19T09:08:27.711539Z",
     "start_time": "2025-01-19T09:08:25.438273Z"
    }
   },
   "outputs": [],
   "source": [
    "from pandas.io.sas.sas_constants import subheader_pointer_length_x64\n",
    "from sympy import false\n",
    "from main import *"
   ]
  },
  {
   "cell_type": "code",
   "execution_count": 13,
   "metadata": {
    "ExecuteTime": {
     "end_time": "2025-01-19T09:08:27.736296Z",
     "start_time": "2025-01-19T09:08:27.728559Z"
    }
   },
   "outputs": [],
   "source": [
    "model = PeriodicalPotential(strengthLambda=0.16, distanceD=0.9, gamma=0.5, kappa=0.5, L=1.5, agentsNum=1000, boundaryLength=5,\n",
    "                  tqdm=True, savePath=\"./data\", overWrite=True)\n",
    "# model.tempForK = model.tempForK"
   ]
  },
  {
   "cell_type": "code",
   "execution_count": 14,
   "metadata": {
    "ExecuteTime": {
     "end_time": "2025-01-19T09:43:41.014583Z",
     "start_time": "2025-01-19T09:08:27.748328Z"
    }
   },
   "outputs": [
    {
     "data": {
      "application/vnd.jupyter.widget-view+json": {
       "model_id": "4021689afeeb41bc8d945ffd8a5b3150",
       "version_major": 2,
       "version_minor": 0
      },
      "text/plain": [
       "  0%|          | 0/10000 [00:00<?, ?it/s]"
      ]
     },
     "metadata": {},
     "output_type": "display_data"
    }
   ],
   "source": [
    "model.run(10000)"
   ]
  },
  {
   "cell_type": "code",
   "execution_count": 15,
   "metadata": {
    "ExecuteTime": {
     "end_time": "2025-01-19T09:43:41.100900Z",
     "start_time": "2025-01-19T09:43:41.093125Z"
    }
   },
   "outputs": [],
   "source": [
    "import pandas as pd\n",
    "from matplotlib.animation import FuncAnimation\n",
    "\n",
    "def draw_mp4(model):\n",
    "\n",
    "    targetPath = f\"./data/{model}.h5\"\n",
    "    totalPositionX = pd.read_hdf(targetPath, key=\"positionX\")\n",
    "    totalSpeed = pd.read_hdf(targetPath, key=\"speed\")\n",
    "    totalPhaseTheta = pd.read_hdf(targetPath, key=\"phaseTheta\")\n",
    "    totalPointThetaSpeed = pd.read_hdf(targetPath, key=\"pointThetaSpeed\")\n",
    "    TNum = totalPositionX.shape[0] // model.agentsNum\n",
    "    totalPositionX = totalPositionX.values.reshape(TNum, model.agentsNum, 2)\n",
    "    totalSpeed = totalSpeed.values.reshape(TNum, model.agentsNum, 2)\n",
    "    totalPhaseTheta = totalPhaseTheta.values.reshape(TNum, model.agentsNum)\n",
    "    totalPointThetaSpeed = totalPointThetaSpeed.values.reshape(TNum, model.agentsNum)\n",
    "    shift = 0\n",
    "    class1, class2 = (\n",
    "        np.concatenate([np.ones(model.agentsNum // 2), np.zeros(model.agentsNum // 2)]).astype(bool),\n",
    "        np.concatenate([np.zeros(model.agentsNum // 2), np.ones(model.agentsNum // 2)]).astype(bool)\n",
    "    )\n",
    "\n",
    "    def plot_frame(i):\n",
    "        pbar.update(1)\n",
    "        positionX = totalPositionX[i]\n",
    "        phaseTheta = totalPhaseTheta[i]\n",
    "        fig.clear()\n",
    "        ax1 = plt.subplot(1, 2, 1)\n",
    "        limShift = 0\n",
    "        ax1.set_xlim(0 - limShift, model.boundaryLength + limShift)\n",
    "        ax1.set_ylim(0 - limShift, model.boundaryLength + limShift)\n",
    "        x, y = np.meshgrid(np.linspace(0 - limShift, model.boundaryLength + limShift, 100),\n",
    "                           np.linspace(0 - limShift, model.boundaryLength + limShift, 100))\n",
    "        z = (model.kappa * (np.cos(2 * np.pi * x / model.L))\n",
    "             + model.kappa * (np.cos(2 * np.pi * y / model.L) + 0.25 * np.cos(4 * np.pi * y / model.L)))\n",
    "        pcm = ax1.pcolormesh(x, y, z, cmap='YlGn_r', shading='auto')\n",
    "        plt.colorbar(pcm, ax=ax1)\n",
    "        ax1.quiver(\n",
    "            positionX[class1, 0], positionX[class1, 1],\n",
    "            np.cos(phaseTheta[class1]), np.sin(phaseTheta[class1]), color='tomato'\n",
    "        )\n",
    "        ax1.quiver(\n",
    "            positionX[class2, 0], positionX[class2, 1],\n",
    "            np.cos(phaseTheta[class2]), np.sin(phaseTheta[class2]), color='dodgerblue'\n",
    "        )\n",
    "\n",
    "        hist, bins = np.histogram(phaseTheta[class1], bins=100, range=(-np.pi, np.pi))\n",
    "        hist, bins = np.histogram(phaseTheta[class2], bins=100, range=(-np.pi, np.pi))\n",
    "\n",
    "        ax2 = plt.subplot(1, 2, 2, projection='3d')\n",
    "        # print(np.array([np.zeros_like(hist), hist]).shape)\n",
    "        ax2.plot_surface(\n",
    "            np.cos(bins[:-1]), np.sin(bins[:-1]),\n",
    "            np.array([np.zeros_like(hist), hist]),\n",
    "            color='tomato', alpha=0.5, edgecolor=\"tomato\"\n",
    "        )\n",
    "\n",
    "        ax2.plot_surface(\n",
    "            np.cos(bins[:-1]) + shift, np.sin(bins[:-1]) + shift,\n",
    "            np.array([np.zeros_like(hist), hist]),\n",
    "            color='dodgerblue', alpha=0.5, edgecolor=\"dodgerblue\"\n",
    "        )\n",
    "        ax2.set_xlabel(r\"$\\cos(\\theta_I)$\")\n",
    "        ax2.set_ylabel(r\"$\\sin(\\theta_I)$\")\n",
    "        ax2.set_zlabel(\"Count\")\n",
    "        ax2.set_zlim(0, 1000)\n",
    "\n",
    "    pbar = tqdm(total=TNum)\n",
    "    fig, ax = plt.subplots(figsize=(11, 4))\n",
    "    ax1 = plt.subplot(2, 1, 1)\n",
    "    ani = ma.FuncAnimation(fig, plot_frame, frames=np.arange(0, TNum, 1), interval=50, repeat=False)\n",
    "    ani.save(f\"./mp4/{model}.mp4\", dpi=300, writer=\"ffmpeg\")\n",
    "\n",
    "    plt.close()\n",
    "\n",
    "    pbar.close()"
   ]
  },
  {
   "cell_type": "code",
   "execution_count": 16,
   "metadata": {
    "ExecuteTime": {
     "end_time": "2025-01-19T10:14:12.702555Z",
     "start_time": "2025-01-19T09:43:41.106401Z"
    }
   },
   "outputs": [
    {
     "data": {
      "application/vnd.jupyter.widget-view+json": {
       "model_id": "9e9f4766261c4d5a89b8c9e95d333c72",
       "version_major": 2,
       "version_minor": 0
      },
      "text/plain": [
       "  0%|          | 0/2002 [00:00<?, ?it/s]"
      ]
     },
     "metadata": {},
     "output_type": "display_data"
    }
   ],
   "source": [
    "draw_mp4(model)"
   ]
  }
 ],
 "metadata": {
  "kernelspec": {
   "display_name": "base",
   "language": "python",
   "name": "python3"
  },
  "language_info": {
   "codemirror_mode": {
    "name": "ipython",
    "version": 3
   },
   "file_extension": ".py",
   "mimetype": "text/x-python",
   "name": "python",
   "nbconvert_exporter": "python",
   "pygments_lexer": "ipython3",
   "version": "3.12.3"
  }
 },
 "nbformat": 4,
 "nbformat_minor": 4
}
